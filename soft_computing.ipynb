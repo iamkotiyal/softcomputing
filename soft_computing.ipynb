{
 "cells": [
  {
   "cell_type": "markdown",
   "id": "0964b2c6-d131-49ee-a54b-4bda6c812356",
   "metadata": {},
   "source": [
    "![Alt text](Q1.jpg)"
   ]
  },
  {
   "cell_type": "markdown",
   "id": "6993c514-6834-4d52-881a-be299b7c8e52",
   "metadata": {},
   "source": [
    "![Alt text](Q2.jpg)"
   ]
  },
  {
   "cell_type": "markdown",
   "id": "e401e934-5121-4fc5-b194-4300a02493ee",
   "metadata": {},
   "source": [
    "![Alt text](Q3.jpg)"
   ]
  },
  {
   "cell_type": "markdown",
   "id": "44686ef8-59da-4266-ac1d-c40140a602df",
   "metadata": {},
   "source": [
    "![Alt text](Q4.jpg)"
   ]
  },
  {
   "cell_type": "markdown",
   "id": "351593c7-607f-4c77-a698-50aa454ade49",
   "metadata": {},
   "source": [
    "![Alt text](Q4.1.jpg)"
   ]
  },
  {
   "cell_type": "markdown",
   "id": "0220d451-0673-45e5-b1ec-48426169bcd0",
   "metadata": {},
   "source": [
    "![Alt text](Q5.jpg)"
   ]
  },
  {
   "cell_type": "markdown",
   "id": "180dca2c-51b8-4ce4-ac95-a157a1ece898",
   "metadata": {},
   "source": [
    "![Alt text](Q5.1.jpg)"
   ]
  },
  {
   "cell_type": "markdown",
   "id": "18c0acda-7d34-4067-bd9d-0b71c5742d2c",
   "metadata": {},
   "source": [
    "![Alt text](Q6.jpg)"
   ]
  },
  {
   "cell_type": "markdown",
   "id": "648d1ca9-92fb-4e63-84c1-72cafe330e70",
   "metadata": {},
   "source": [
    "![Alt text](Q6.1.jpg)"
   ]
  },
  {
   "cell_type": "markdown",
   "id": "478ba3d9-e197-46df-a67a-a6406185c9d1",
   "metadata": {},
   "source": [
    "![Alt text](Q7.jpg)"
   ]
  },
  {
   "cell_type": "markdown",
   "id": "31cfacc0-78f7-4a3a-a536-f4d4ef157202",
   "metadata": {},
   "source": [
    "![Alt text](Q8.jpg)"
   ]
  },
  {
   "cell_type": "markdown",
   "id": "fbad16aa-cd99-4a81-8ccc-cb71207960ac",
   "metadata": {},
   "source": [
    "![Alt text](Q8.1.jpg)"
   ]
  },
  {
   "cell_type": "markdown",
   "id": "cfd7c218-bb65-4e51-ba02-fe0f9a0a2aef",
   "metadata": {},
   "source": [
    "![Alt text](Q8.2.jpg)"
   ]
  },
  {
   "cell_type": "markdown",
   "id": "8a0495da-9e0e-4fd2-90c5-4a380dc1ba5d",
   "metadata": {},
   "source": [
    "![Alt text](Q10.jpg)"
   ]
  },
  {
   "cell_type": "markdown",
   "id": "8e8f5a64-67bc-482e-a71a-20094f59351d",
   "metadata": {},
   "source": [
    "![Alt text](Q10.1.jpg)"
   ]
  },
  {
   "cell_type": "code",
   "execution_count": null,
   "id": "7a3ee93f-2959-4157-9fbf-79d4f8dcffed",
   "metadata": {},
   "outputs": [],
   "source": []
  }
 ],
 "metadata": {
  "kernelspec": {
   "display_name": "Python 3 (ipykernel)",
   "language": "python",
   "name": "python3"
  },
  "language_info": {
   "codemirror_mode": {
    "name": "ipython",
    "version": 3
   },
   "file_extension": ".py",
   "mimetype": "text/x-python",
   "name": "python",
   "nbconvert_exporter": "python",
   "pygments_lexer": "ipython3",
   "version": "3.11.3"
  }
 },
 "nbformat": 4,
 "nbformat_minor": 5
}
